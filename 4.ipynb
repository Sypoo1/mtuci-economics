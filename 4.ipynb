{
 "cells": [
  {
   "cell_type": "markdown",
   "metadata": {},
   "source": [
    "Задача 4.1. Определите повременно-премиальную заработную плату (Зповр\n",
    "пр )\n",
    "рабочего V разряда в месяц, если часовая тарифная ставка I разряда составляет 90\n",
    "р. За месяц отработан 21 день, его продолжительность 8 ч. Премия за\n",
    "качественное выполнение работ составляет 35 %"
   ]
  },
  {
   "cell_type": "code",
   "execution_count": 2,
   "metadata": {},
   "outputs": [
    {
     "name": "stdout",
     "output_type": "stream",
     "text": [
      "Повременно-премиальная зарплата: 36741.6 руб.\n"
     ]
    }
   ],
   "source": [
    "tariff_1 = 90\n",
    "grade_coef = 1.8  # V разряд\n",
    "days = 21\n",
    "hours_per_day = 8\n",
    "premium_percent = 35\n",
    "\n",
    "# Часовая ставка V разряда\n",
    "hour_rate = tariff_1 * grade_coef\n",
    "# Отработано часов\n",
    "total_hours = days * hours_per_day\n",
    "# Зарплата по тарифу\n",
    "salary_base = hour_rate * total_hours\n",
    "# С премией\n",
    "salary_total = salary_base * (1 + premium_percent / 100)\n",
    "print(f\"Повременно-премиальная зарплата: {round(salary_total, 2)} руб.\")"
   ]
  },
  {
   "cell_type": "markdown",
   "metadata": {},
   "source": [
    "Задача 4.2. Рабочий VI разряда за месяц изготовил 980 деталей, 45 из\n",
    "которых были приняты негодными (брак). Тарифная ставка рабочего I разряда\n",
    "составляет 80 р. Норма времени на изготовление одной детали 15 мин. \n",
    "Определите сдельную расценку за одну деталь (Pi) и сдельный заработок (Зсд) \n",
    "рабочего в месяц."
   ]
  },
  {
   "cell_type": "code",
   "execution_count": null,
   "metadata": {},
   "outputs": [
    {
     "name": "stdout",
     "output_type": "stream",
     "text": [
      "Сдельная расценка за одну деталь: 40.0 руб.\n",
      "Сдельный заработок: 37400.0 руб.\n"
     ]
    }
   ],
   "source": [
    "tariff_1 = 80\n",
    "grade_coef = 2  # VI разряд\n",
    "total_parts = 980\n",
    "defect = 45\n",
    "time_per_part = 15 / 60\n",
    "\n",
    "# Часовая ставка VI разряда\n",
    "hour_rate = tariff_1 * grade_coef\n",
    "# Расценка за деталь\n",
    "rate_per_part = hour_rate * time_per_part\n",
    "# Принятые детали\n",
    "good_parts = total_parts - defect\n",
    "# Зарплата\n",
    "salary = rate_per_part * good_parts\n",
    "\n",
    "print(f\"Сдельная расценка за одну деталь: {round(rate_per_part, 2)} руб.\")\n",
    "print(f\"Сдельный заработок: {round(salary, 2)} руб.\")"
   ]
  },
  {
   "cell_type": "markdown",
   "metadata": {},
   "source": [
    "Задача 4.3. Рассчитайте месячную заработную плату вспомогательного \n",
    "работника, труд которого оплачивается по косвенно-сдельной оплате труда (Зк.сд). \n",
    "Количество объектов, обслуживаемых работником, – 8 единиц, норма выработки \n",
    "для каждого объекта – 17 шт./ч, фактическая выработка в месяц всех объектов \n",
    "обслуживания – 36 000 шт., часовая тарифная ставка ремонтника – 120 р"
   ]
  },
  {
   "cell_type": "code",
   "execution_count": 8,
   "metadata": {},
   "outputs": [
    {
     "name": "stdout",
     "output_type": "stream",
     "text": [
      "Зарплата вспомогательного работника: 31764.71 руб.\n"
     ]
    }
   ],
   "source": [
    "objects = 8\n",
    "norm_output = 17  # шт./час\n",
    "actual_output = 36000  # шт. в месяц\n",
    "hour_rate = 120\n",
    "\n",
    "# Косвенная сдельная расценка (формула 4.10)\n",
    "rate_indirect = hour_rate / (norm_output * objects)\n",
    "# Зарплата (формула 4.9)\n",
    "salary = rate_indirect * actual_output\n",
    "print(f\"Зарплата вспомогательного работника: {round(salary, 2)} руб.\")"
   ]
  },
  {
   "cell_type": "markdown",
   "metadata": {},
   "source": [
    "Задача 4.4. Определите заработную плату менеджера по продажам, если его \n",
    "должностной оклад составляет 50 000р., премиальная часть заработка 2% от \n",
    "достигнутого товарооборота фирмы, объем продаж который в отчетном месяце \n",
    "составил 2 500 000р."
   ]
  },
  {
   "cell_type": "code",
   "execution_count": 10,
   "metadata": {},
   "outputs": [
    {
     "name": "stdout",
     "output_type": "stream",
     "text": [
      "Зарплата менеджера: 100000.0 руб.\n"
     ]
    }
   ],
   "source": [
    "salary_base = 50000\n",
    "sales = 2500000\n",
    "premium_percent = 2\n",
    "\n",
    "premium = sales * premium_percent / 100\n",
    "salary_total = salary_base + premium\n",
    "print(f\"Зарплата менеджера: {round(salary_total, 2)} руб.\")"
   ]
  },
  {
   "cell_type": "markdown",
   "metadata": {},
   "source": [
    "Задача 4.5. Определите повременно-премиальную заработную плату (Зповр\n",
    "пр )\n",
    "работника, если его должностной оклад составляет 35 000р. В месяце 22 дня при \n",
    "8-часовой продолжительности рабочего дня. Фактически отработано 160 ч. \n",
    "Премия составляет 25 %"
   ]
  },
  {
   "cell_type": "code",
   "execution_count": 12,
   "metadata": {},
   "outputs": [
    {
     "name": "stdout",
     "output_type": "stream",
     "text": [
      "Повременно-премиальная зарплата: 39772.73 руб.\n"
     ]
    }
   ],
   "source": [
    "salary_base = 35000\n",
    "work_days_norm = 22\n",
    "hours_per_day = 8\n",
    "hours_worked = 160\n",
    "premium_percent = 25\n",
    "\n",
    "# Норма часов в месяце\n",
    "hours_norm = work_days_norm * hours_per_day\n",
    "# Часовая ставка\n",
    "hour_rate = salary_base / hours_norm\n",
    "# Зарплата за отработанные часы\n",
    "salary_time = hour_rate * hours_worked\n",
    "# С премией\n",
    "salary_total = salary_time * (1 + premium_percent / 100)\n",
    "print(f\"Повременно-премиальная зарплата: {round(salary_total, 2)} руб.\")"
   ]
  }
 ],
 "metadata": {
  "kernelspec": {
   "display_name": ".venv",
   "language": "python",
   "name": "python3"
  },
  "language_info": {
   "codemirror_mode": {
    "name": "ipython",
    "version": 3
   },
   "file_extension": ".py",
   "mimetype": "text/x-python",
   "name": "python",
   "nbconvert_exporter": "python",
   "pygments_lexer": "ipython3",
   "version": "3.12.6"
  }
 },
 "nbformat": 4,
 "nbformat_minor": 2
}
