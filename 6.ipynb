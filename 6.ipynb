{
 "cells": [
  {
   "cell_type": "code",
   "execution_count": 2,
   "metadata": {},
   "outputs": [
    {
     "name": "stdout",
     "output_type": "stream",
     "text": [
      "Задача 6.1\n",
      "Объём продукции в отчётном году (млн руб.): 505.84\n",
      "Объём продукции в плановом году (млн руб.): 546.31\n",
      "Себестоимость в плановом году (млн руб.): 464.36\n",
      "\n"
     ]
    }
   ],
   "source": [
    "\n",
    "# Исходные данные\n",
    "cost_reporting_year = 450.2       # Себестоимость (отчётный год), млн руб\n",
    "cost_per_ruble_reporting = 0.89   # Затраты на 1 руб. (отчётный год)\n",
    "cost_per_ruble_planned = 0.85     # Затраты на 1 руб. (плановый год)\n",
    "increase_rate = 0.08              # Рост объёма производства (8%)\n",
    "\n",
    "# 1. Находим объём товарной продукции (в денежном выражении) в отчётном году\n",
    "volume_reporting_year = cost_reporting_year / cost_per_ruble_reporting\n",
    "\n",
    "# 2. Увеличиваем объём на 8%\n",
    "volume_planned_year = volume_reporting_year * (1 + increase_rate)\n",
    "\n",
    "# 3. Находим себестоимость в плановом году\n",
    "cost_planned_year = volume_planned_year * cost_per_ruble_planned\n",
    "\n",
    "print(\"Задача 6.1\")\n",
    "print(f\"Объём продукции в отчётном году (млн руб.): {volume_reporting_year:.2f}\")\n",
    "print(f\"Объём продукции в плановом году (млн руб.): {volume_planned_year:.2f}\")\n",
    "print(f\"Себестоимость в плановом году (млн руб.): {cost_planned_year:.2f}\\n\")\n",
    "\n",
    "\n"
   ]
  },
  {
   "cell_type": "code",
   "execution_count": 3,
   "metadata": {},
   "outputs": [
    {
     "name": "stdout",
     "output_type": "stream",
     "text": [
      "Задача 6.2\n",
      "Квартал 1:\n",
      "  - Выручка (руб.): 90000\n",
      "  - Себестоимость (руб.): 75000\n",
      "  - Прибыль (руб.): 15000\n",
      "  - Рентабельность (%): 16.67\n",
      "\n",
      "Квартал 2:\n",
      "  - Выручка (руб.): 120000\n",
      "  - Себестоимость (руб.): 104000\n",
      "  - Прибыль (руб.): 16000\n",
      "  - Рентабельность (%): 13.33\n",
      "\n",
      "Квартал 3:\n",
      "  - Выручка (руб.): 108000\n",
      "  - Себестоимость (руб.): 86400\n",
      "  - Прибыль (руб.): 21600\n",
      "  - Рентабельность (%): 20.00\n",
      "\n"
     ]
    }
   ],
   "source": [
    "\n",
    "# Данные по кварталам в виде списка словарей\n",
    "# quantity: количество изделий, price: цена за изделие, cost: себестоимость за изделие\n",
    "quarters = [\n",
    "    {\"quantity\": 1500, \"price\": 60, \"cost\": 50},  # Квартал 1\n",
    "    {\"quantity\": 2000, \"price\": 60, \"cost\": 52},  # Квартал 2\n",
    "    {\"quantity\": 1800, \"price\": 60, \"cost\": 48},  # Квартал 3\n",
    "]\n",
    "\n",
    "print(\"Задача 6.2\")\n",
    "for i, q in enumerate(quarters, start=1):\n",
    "    revenue = q[\"quantity\"] * q[\"price\"]         # Выручка\n",
    "    total_cost = q[\"quantity\"] * q[\"cost\"]       # Полная себестоимость\n",
    "    profit = revenue - total_cost                # Прибыль\n",
    "    profitability = profit / revenue * 100       # Рентабельность (%)\n",
    "\n",
    "    print(f\"Квартал {i}:\")\n",
    "    print(f\"  - Выручка (руб.): {revenue}\")\n",
    "    print(f\"  - Себестоимость (руб.): {total_cost}\")\n",
    "    print(f\"  - Прибыль (руб.): {profit}\")\n",
    "    print(f\"  - Рентабельность (%): {profitability:.2f}\\n\")\n",
    "\n",
    "\n"
   ]
  }
 ],
 "metadata": {
  "kernelspec": {
   "display_name": ".venv",
   "language": "python",
   "name": "python3"
  },
  "language_info": {
   "codemirror_mode": {
    "name": "ipython",
    "version": 3
   },
   "file_extension": ".py",
   "mimetype": "text/x-python",
   "name": "python",
   "nbconvert_exporter": "python",
   "pygments_lexer": "ipython3",
   "version": "3.12.9"
  }
 },
 "nbformat": 4,
 "nbformat_minor": 2
}
