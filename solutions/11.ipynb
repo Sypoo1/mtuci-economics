{
 "cells": [
  {
   "cell_type": "code",
   "execution_count": 2,
   "id": "8f156c3b",
   "metadata": {},
   "outputs": [
    {
     "name": "stdout",
     "output_type": "stream",
     "text": [
      "№ 11.1\n",
      "Темп роста выручки: 40.00%\n"
     ]
    }
   ],
   "source": [
    "print('№ 11.1')\n",
    "previous_revenue = 2400  # тыс. р.\n",
    "current_revenue = 3360  # тыс. р.\n",
    "\n",
    "growth_rate = ((current_revenue - previous_revenue) / previous_revenue) * 100\n",
    "print(f\"Темп роста выручки: {growth_rate:.2f}%\")\n"
   ]
  },
  {
   "cell_type": "code",
   "execution_count": 3,
   "id": "96100ff3",
   "metadata": {},
   "outputs": [
    {
     "name": "stdout",
     "output_type": "stream",
     "text": [
      "№ 11.2\n",
      "Рентабельность активов: 17.84%\n",
      "Рентабельность продукции: 35.18%\n",
      "Рентабельность продаж: 25.80%\n"
     ]
    }
   ],
   "source": [
    "print('№ 11.2')\n",
    "units_sold = 2300\n",
    "price_per_unit = 1.5  # тыс. р.\n",
    "cost_per_unit = 1.1  # тыс. р.\n",
    "fixed_assets = 2500  # тыс. р.\n",
    "current_assets = 2600  # тыс. р.\n",
    "profit_sales = 890  # тыс. р.\n",
    "profit_before_tax = 910  # тыс. р.\n",
    "\n",
    "revenue = units_sold * price_per_unit\n",
    "total_cost = units_sold * cost_per_unit\n",
    "average_assets = fixed_assets + current_assets\n",
    "\n",
    "ra = (profit_before_tax / average_assets) * 100\n",
    "rpr = (profit_sales / total_cost) * 100\n",
    "rp = (profit_sales / revenue) * 100\n",
    "\n",
    "print(f\"Рентабельность активов: {ra:.2f}%\")\n",
    "print(f\"Рентабельность продукции: {rpr:.2f}%\")\n",
    "print(f\"Рентабельность продаж: {rp:.2f}%\")\n"
   ]
  },
  {
   "cell_type": "code",
   "execution_count": 4,
   "id": "bd1a30e2",
   "metadata": {},
   "outputs": [
    {
     "name": "stdout",
     "output_type": "stream",
     "text": [
      "№ 11.3\n",
      "Затраты на 1 рубль продукции в прошлом году: 0.8771\n",
      "Затраты на 1 рубль продукции в отчетном году: 0.8372\n",
      "Изменение: -4.56%\n"
     ]
    }
   ],
   "source": [
    "print('№ 11.3')\n",
    "revenue_prev = 7000  # тыс. р.\n",
    "revenue_curr = 7747.6  # тыс. р.\n",
    "cost_prev = 6140  # тыс. р.\n",
    "cost_curr = 6486  # тыс. р.\n",
    "\n",
    "z1r_prev = cost_prev / revenue_prev\n",
    "z1r_curr = cost_curr / revenue_curr\n",
    "change = ((z1r_curr - z1r_prev) / z1r_prev) * 100\n",
    "\n",
    "print(f\"Затраты на 1 рубль продукции в прошлом году: {z1r_prev:.4f}\")\n",
    "print(f\"Затраты на 1 рубль продукции в отчетном году: {z1r_curr:.4f}\")\n",
    "print(f\"Изменение: {change:.2f}%\")\n"
   ]
  }
 ],
 "metadata": {
  "kernelspec": {
   "display_name": "economics",
   "language": "python",
   "name": "python3"
  },
  "language_info": {
   "codemirror_mode": {
    "name": "ipython",
    "version": 3
   },
   "file_extension": ".py",
   "mimetype": "text/x-python",
   "name": "python",
   "nbconvert_exporter": "python",
   "pygments_lexer": "ipython3",
   "version": "3.12.9"
  }
 },
 "nbformat": 4,
 "nbformat_minor": 5
}
