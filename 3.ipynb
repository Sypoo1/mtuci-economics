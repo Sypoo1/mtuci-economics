{
 "cells": [
  {
   "cell_type": "markdown",
   "metadata": {},
   "source": [
    "Задача 3.1. Определите численность рабочих по нормам обслуживания, если\n",
    "известно, что объем обслуживания (Q) составляет 135 станков в смену, норма \n",
    "обслуживания (Ноб) – 8 станков в смену на одного человека, режим работы \n",
    "двухсменный, коэффициент использования номинального фонда времени (kи.в) –\n",
    "0,8."
   ]
  },
  {
   "cell_type": "code",
   "execution_count": 2,
   "metadata": {},
   "outputs": [
    {
     "name": "stdout",
     "output_type": "stream",
     "text": [
      "3.1. Численность рабочих: 42.19 → 43 чел.\n"
     ]
    }
   ],
   "source": [
    "from math import ceil\n",
    "\n",
    "Q = 135\n",
    "H_ob = 8\n",
    "S = 2\n",
    "k_iv = 0.8\n",
    "\n",
    "# Формула: Ч = (Q * S) / (H_ob * k_iv)\n",
    "chislennost = (Q * S) / (H_ob * k_iv)\n",
    "print(f\"3.1. Численность рабочих: {round(chislennost, 2)} → {ceil(chislennost)} чел.\")"
   ]
  },
  {
   "cell_type": "markdown",
   "metadata": {},
   "source": [
    "Задача 3.2. Определите производительность труда (В) по предприятию в \n",
    "целом и отдельно по каждому виду продукции предприятия, если известно, что \n",
    "предприятие выпускает два вида изделий (А и Б); объем валовой продукции (ВП) \n",
    "изделия А составляет 13 000 тыс. р., Б – 28 000 тыс. р.,на предприятии работает \n",
    "(Чппп) 3 670 человек, из них в производстве продукции А занято 26 %"
   ]
  },
  {
   "cell_type": "code",
   "execution_count": 3,
   "metadata": {},
   "outputs": [
    {
     "name": "stdout",
     "output_type": "stream",
     "text": [
      "3.2. Производительность труда:\n",
      "- В целом: 11.17 тыс. руб./чел.\n",
      "- По продукции А: 13.62 тыс. руб./чел.\n",
      "- По продукции Б: 10.31 тыс. руб./чел.\n"
     ]
    }
   ],
   "source": [
    "VP_A = 13000\n",
    "VP_B = 28000\n",
    "total_workers = 3670\n",
    "percent_A = 0.26\n",
    "\n",
    "# Общая производительность\n",
    "total_VP = VP_A + VP_B\n",
    "B_total = total_VP / total_workers\n",
    "\n",
    "# Производительность по продукции А\n",
    "workers_A = total_workers * percent_A\n",
    "B_A = VP_A / workers_A\n",
    "\n",
    "# Производительность по продукции Б\n",
    "workers_B = total_workers - workers_A\n",
    "B_B = VP_B / workers_B\n",
    "\n",
    "print(f\"3.2. Производительность труда:\")\n",
    "print(f\"- В целом: {round(B_total, 2)} тыс. руб./чел.\")\n",
    "print(f\"- По продукции А: {round(B_A, 2)} тыс. руб./чел.\")\n",
    "print(f\"- По продукции Б: {round(B_B, 2)} тыс. руб./чел.\")"
   ]
  },
  {
   "cell_type": "markdown",
   "metadata": {},
   "source": [
    "Задача 3.3. Среднесписочная численность работников предприятия за год \n",
    "составила 900 человек. За период на предприятие поступило 49 человек, уволилось \n",
    "по собственному желанию 52 человека, уволены за нарушение трудовой \n",
    "дисциплины 43 человека, ушли на пенсию 21 человек. Определите коэффициент\n",
    "текучести кадров (kт.к), коэффициент общего оборота кадров (kо.к), коэффициент \n",
    "оборота по приему кадров (kп.к), коэффициент оборота по выбытию кадров (kв.к)."
   ]
  },
  {
   "cell_type": "code",
   "execution_count": 4,
   "metadata": {},
   "outputs": [
    {
     "name": "stdout",
     "output_type": "stream",
     "text": [
      "3.3. Коэффициенты:\n",
      "- Текучести (kт.к): 10.56%\n",
      "- Общего оборота (kо.к): -0.0744\n",
      "- Оборот по приему (kп.к): 5.44%\n",
      "- Оборот по выбытию (kв.к): 12.89%\n"
     ]
    }
   ],
   "source": [
    "Ch_sp = 900\n",
    "Ch_pr = 49\n",
    "Ch_uv_sobstv = 52\n",
    "Ch_uv_narush = 43\n",
    "Ch_uv_pens = 21\n",
    "\n",
    "# Коэффициент текучести\n",
    "Ch_uv_tekuchest = Ch_uv_sobstv + Ch_uv_narush\n",
    "k_tk = (Ch_uv_tekuchest / Ch_sp) * 100\n",
    "\n",
    "# Коэффициент общего оборота\n",
    "sum_Ch_pr = Ch_pr\n",
    "sum_Ch_uv = Ch_uv_sobstv + Ch_uv_narush + Ch_uv_pens\n",
    "k_ok = (sum_Ch_pr - sum_Ch_uv) / Ch_sp\n",
    "\n",
    "# Коэффициент оборота по приему\n",
    "k_pk = (Ch_pr / Ch_sp) * 100\n",
    "\n",
    "# Коэффициент оборота по выбытию\n",
    "k_vk = (sum_Ch_uv / Ch_sp) * 100\n",
    "\n",
    "print(\"3.3. Коэффициенты:\")\n",
    "print(f\"- Текучести (kт.к): {round(k_tk, 2)}%\")\n",
    "print(f\"- Общего оборота (kо.к): {round(k_ok, 4)}\")\n",
    "print(f\"- Оборот по приему (kп.к): {round(k_pk, 2)}%\")\n",
    "print(f\"- Оборот по выбытию (kв.к): {round(k_vk, 2)}%\")"
   ]
  }
 ],
 "metadata": {
  "kernelspec": {
   "display_name": ".venv",
   "language": "python",
   "name": "python3"
  },
  "language_info": {
   "codemirror_mode": {
    "name": "ipython",
    "version": 3
   },
   "file_extension": ".py",
   "mimetype": "text/x-python",
   "name": "python",
   "nbconvert_exporter": "python",
   "pygments_lexer": "ipython3",
   "version": "3.12.6"
  }
 },
 "nbformat": 4,
 "nbformat_minor": 2
}
