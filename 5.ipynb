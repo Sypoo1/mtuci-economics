{
 "cells": [
  {
   "cell_type": "markdown",
   "metadata": {},
   "source": [
    "Задача 5.1. Определить производственную мощность цеха и коэффициент\n",
    "использования мощности при следующих условиях:\n",
    " количество однотипных станков в цехе - 100 ед (N).,\n",
    " с 1 ноября установлено еще 30 ед. (Nвв),\n",
    " с 1 мая выбыло 6 ед. (N выб),\n",
    " число рабочих дней в году – 258 (Др),\n",
    " режим работы – двухсменный (с),\n",
    " продолжительность смены – 8 часов (t см),\n",
    " регламентированный процент простоев на ремонт оборудования – 6%,\n",
    " производительность одного станка – 5 деталей в час (Пм),\n",
    " план выпуска за год – 1 700 000 деталей (В пл)."
   ]
  },
  {
   "cell_type": "code",
   "execution_count": 3,
   "metadata": {},
   "outputs": [
    {
     "name": "stdout",
     "output_type": "stream",
     "text": [
      "Производственная мощность: 1,959,562 деталей\n",
      "Коэффициент использования: 86.75%\n"
     ]
    }
   ],
   "source": [
    "# Исходные данные\n",
    "N_initial = 100\n",
    "N_add = 30\n",
    "N_remove = 6\n",
    "working_days = 258\n",
    "shifts = 2\n",
    "shift_hours = 8\n",
    "downtime_percent = 6\n",
    "productivity = 5\n",
    "plan_output = 1_700_000\n",
    "\n",
    "# Расчет эффективного фонда времени\n",
    "F_nominal = working_days * shift_hours * shifts\n",
    "F_effective = F_nominal * (1 - downtime_percent / 100)\n",
    "\n",
    "# Среднегодовое количество станков\n",
    "months_add = 2  # ноябрь и декабрь (2 месяца)\n",
    "months_remove = 8  # после мая включительно (8 месяца)\n",
    "\n",
    "N_avg = N_initial + (N_add * months_add / 12) - (N_remove * months_remove / 12)\n",
    "\n",
    "# Производственная мощность\n",
    "M = N_avg * F_effective * productivity\n",
    "\n",
    "# Коэффициент использования\n",
    "utilization = plan_output / M\n",
    "\n",
    "print(f\"Производственная мощность: {M:,.0f} деталей\")\n",
    "print(f\"Коэффициент использования: {utilization:.2%}\")"
   ]
  },
  {
   "cell_type": "markdown",
   "metadata": {},
   "source": [
    "Задача 5.2. Состав основных производственных фондов предприятия по\n",
    "группам, их стоимость на начало года и изменения в течение года следующие\n",
    "(тыс. руб.).\n",
    "Объем товарной продукции за год составил 1236820 тыс. руб.\n",
    "Определите стоимость ОФ на конец года и фондоотдачу."
   ]
  },
  {
   "cell_type": "code",
   "execution_count": 9,
   "metadata": {},
   "outputs": [
    {
     "name": "stdout",
     "output_type": "stream",
     "text": [
      "Стоимость ОФ на конец года: 945,210 тыс. руб.\n",
      "Фондоотдача: 1.3241\n"
     ]
    }
   ],
   "source": [
    "# Данные по группам ОФ (тыс. руб.)\n",
    "groups = [\n",
    "    {\"start\": 341510, \"change\": 0},\n",
    "    {\"start\": 64610, \"change\": 0},\n",
    "    {\"start\": 36920, \"change\": +440},\n",
    "    {\"start\": 378430, \"change\": +23500},\n",
    "    {\"start\": 18460, \"change\": -530},\n",
    "    {\"start\": 23998, \"change\": -810},\n",
    "    {\"start\": 21229, \"change\": +750},\n",
    "    {\"start\": 22152, \"change\": -910},\n",
    "    {\"start\": 15691, \"change\": -230},\n",
    "]\n",
    "\n",
    "# Рассчитываем стоимость на конец года для каждой группы\n",
    "total_start = sum(g[\"start\"] for g in groups)\n",
    "total_end = sum(g[\"start\"] + g[\"change\"] for g in groups)\n",
    "\n",
    "# Среднегодовая стоимость\n",
    "avg_cost = (total_start + total_end) / 2\n",
    "\n",
    "\n",
    "# Фондоотдача\n",
    "output = 1_236_820  # тыс. руб.\n",
    "fondo = output / avg_cost\n",
    "\n",
    "print(f\"Стоимость ОФ на конец года: {total_end:,.0f} тыс. руб.\")\n",
    "print(f\"Фондоотдача: {fondo:.4f}\")"
   ]
  }
 ],
 "metadata": {
  "kernelspec": {
   "display_name": ".venv",
   "language": "python",
   "name": "python3"
  },
  "language_info": {
   "codemirror_mode": {
    "name": "ipython",
    "version": 3
   },
   "file_extension": ".py",
   "mimetype": "text/x-python",
   "name": "python",
   "nbconvert_exporter": "python",
   "pygments_lexer": "ipython3",
   "version": "3.12.9"
  }
 },
 "nbformat": 4,
 "nbformat_minor": 2
}
